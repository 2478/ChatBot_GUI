{
 "cells": [
  {
   "cell_type": "code",
   "execution_count": 19,
   "metadata": {},
   "outputs": [],
   "source": [
    "from tkinter import *\n",
    "root = Tk()"
   ]
  },
  {
   "cell_type": "code",
   "execution_count": 20,
   "metadata": {},
   "outputs": [],
   "source": [
    "root.title(\"Chat Bot\")\n",
    "root.geometry(\"400x500\")\n",
    "root.resizable(width=FALSE, height=FALSE)\n",
    "main_menu = Menu(root)"
   ]
  },
  {
   "cell_type": "code",
   "execution_count": 21,
   "metadata": {},
   "outputs": [],
   "source": [
    "file_menu = Menu(root)\n",
    "\n",
    "# Add commands to submenu\n",
    "file_menu.add_command(label=\"New..\")\n",
    "file_menu.add_command(label=\"Save As..\")\n",
    "file_menu.add_command(label=\"Exit\")\n",
    "main_menu.add_cascade(label=\"File\", menu=file_menu)\n",
    "#Add the rest of the menu options to the main menu\n",
    "main_menu.add_command(label=\"Edit\")\n",
    "main_menu.add_command(label=\"Quit\")\n",
    "root.config(menu=main_menu)"
   ]
  },
  {
   "cell_type": "code",
   "execution_count": 22,
   "metadata": {},
   "outputs": [],
   "source": [
    "chatWindow = Text(root, bd=1, bg=\"white\",  width=\"50\", height=\"8\", font=(\"Arial\", 23), foreground=\"black\")\n",
    "chatWindow.place(x=6,y=6, height=385, width=370)"
   ]
  },
  {
   "cell_type": "code",
   "execution_count": 23,
   "metadata": {},
   "outputs": [],
   "source": [
    "messageWindow = Text(root, bd=0, bg=\"white\",width=\"30\", height=\"4\", font=(\"Arial\", 23), foreground=\"black\")\n",
    "messageWindow.place(x=128, y=400, height=88, width=260)"
   ]
  },
  {
   "cell_type": "code",
   "execution_count": 24,
   "metadata": {},
   "outputs": [],
   "source": [
    "scrollbar = Scrollbar(root, command=chatWindow.yview, cursor=\"star\")\n",
    "scrollbar.place(x=375,y=5, height=385)"
   ]
  },
  {
   "cell_type": "code",
   "execution_count": 25,
   "metadata": {},
   "outputs": [],
   "source": [
    "Button= Button(root, text=\"Send\",  width=\"12\", height=5,\n",
    " bd=0, bg=\"#0080ff\", activebackground=\"#00bfff\",foreground='#ffffff',font=(\"Arial\", 12))\n",
    "Button.place(x=6, y=400, height=88)"
   ]
  },
  {
   "cell_type": "code",
   "execution_count": 26,
   "metadata": {},
   "outputs": [],
   "source": [
    "root.mainloop()"
   ]
  },
  {
   "cell_type": "code",
   "execution_count": null,
   "metadata": {},
   "outputs": [],
   "source": []
  }
 ],
 "metadata": {
  "kernelspec": {
   "display_name": "Python 3",
   "language": "python",
   "name": "python3"
  },
  "language_info": {
   "codemirror_mode": {
    "name": "ipython",
    "version": 3
   },
   "file_extension": ".py",
   "mimetype": "text/x-python",
   "name": "python",
   "nbconvert_exporter": "python",
   "pygments_lexer": "ipython3",
   "version": "3.8.5"
  }
 },
 "nbformat": 4,
 "nbformat_minor": 4
}
